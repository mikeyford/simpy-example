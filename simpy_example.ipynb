{
 "cells": [
  {
   "cell_type": "code",
   "execution_count": 42,
   "metadata": {
    "collapsed": true
   },
   "outputs": [],
   "source": [
    "import simpy\n",
    "import random"
   ]
  },
  {
   "cell_type": "code",
   "execution_count": 48,
   "metadata": {
    "collapsed": true
   },
   "outputs": [],
   "source": [
    "# Create a Hospital class. It has limited beds ('NUM_BEDS') to treat patients in parallel.\n",
    "# Patients wait for an available bed. When they get one they occupy it for a random time between 1 and 10.\n",
    "\n",
    "class Hospital(object):\n",
    "    def __init__(self, env, NUM_BEDS):\n",
    "        self.env = env\n",
    "        self.bed = simpy.Resource(env, NUM_BEDS)\n",
    "\n",
    "    def treatment(self, patient):\n",
    "        yield self.env.timeout(random.randint(1, 10))\n",
    "        print(\"%d%% probability of %s returning to hospital\" %\n",
    "              (random.randint(1, 99), patient))"
   ]
  },
  {
   "cell_type": "code",
   "execution_count": 49,
   "metadata": {
    "collapsed": true
   },
   "outputs": [],
   "source": [
    "# Defines a patient which requires a bed upon arriving at hospital. \n",
    "\n",
    "def patient(env, name, cw):\n",
    "    print('%s arrives at the hospital at %.2f.' % (name, env.now))\n",
    "    with cw.bed.request() as request:\n",
    "        yield request\n",
    "\n",
    "        print('%s gets a bed at %.2f.' % (name, env.now))\n",
    "        yield env.process(cw.treatment(name))\n",
    "\n",
    "        print('%s leaves the hospital at %.2f.' % (name, env.now))"
   ]
  },
  {
   "cell_type": "code",
   "execution_count": 50,
   "metadata": {
    "collapsed": true
   },
   "outputs": [],
   "source": [
    "# create the enviroment with 4 initial patients and keep generating more patients every random\n",
    "# interval between 1 and 5 while the simulation is running.\n",
    "\n",
    "def setup(env, NUM_BEDS):\n",
    "    hospital = Hospital(env, NUM_BEDS)\n",
    "\n",
    "    for i in range(4):\n",
    "        env.process(patient(env, 'Patient %d' % i, hospital))\n",
    "\n",
    "    while True:\n",
    "        yield env.timeout(random.randint(1, 5))\n",
    "        i += 1\n",
    "        env.process(patient(env, 'Patient %d' % i, hospital))"
   ]
  },
  {
   "cell_type": "code",
   "execution_count": 54,
   "metadata": {},
   "outputs": [
    {
     "data": {
      "text/plain": [
       "<Process(setup) object at 0x10b90db38>"
      ]
     },
     "execution_count": 54,
     "metadata": {},
     "output_type": "execute_result"
    }
   ],
   "source": [
    "# input parameters\n",
    "\n",
    "NUM_BEDS = 3  \n",
    "SIM_TIME = 20 # days, for example\n",
    "\n",
    "\n",
    "# initialise enviroment\n",
    "\n",
    "env = simpy.Environment()\n",
    "env.process(setup(env, NUM_BEDS))"
   ]
  },
  {
   "cell_type": "code",
   "execution_count": 55,
   "metadata": {},
   "outputs": [
    {
     "name": "stdout",
     "output_type": "stream",
     "text": [
      "Patient 0 arrives at the hospital at 0.00.\n",
      "Patient 1 arrives at the hospital at 0.00.\n",
      "Patient 2 arrives at the hospital at 0.00.\n",
      "Patient 3 arrives at the hospital at 0.00.\n",
      "Patient 0 gets a bed at 0.00.\n",
      "Patient 1 gets a bed at 0.00.\n",
      "Patient 2 gets a bed at 0.00.\n",
      "Patient 4 arrives at the hospital at 5.00.\n",
      "52% probability of Patient 0 returning to hospital\n",
      "Patient 0 leaves the hospital at 5.00.\n",
      "Patient 3 gets a bed at 5.00.\n",
      "29% probability of Patient 2 returning to hospital\n",
      "Patient 2 leaves the hospital at 7.00.\n",
      "Patient 4 gets a bed at 7.00.\n",
      "66% probability of Patient 1 returning to hospital\n",
      "Patient 5 arrives at the hospital at 10.00.\n",
      "12% probability of Patient 4 returning to hospital\n",
      "Patient 1 leaves the hospital at 10.00.\n",
      "Patient 4 leaves the hospital at 10.00.\n",
      "Patient 5 gets a bed at 10.00.\n",
      "15% probability of Patient 3 returning to hospital\n",
      "20% probability of Patient 5 returning to hospital\n",
      "Patient 3 leaves the hospital at 11.00.\n",
      "Patient 5 leaves the hospital at 11.00.\n",
      "Patient 6 arrives at the hospital at 14.00.\n",
      "Patient 6 gets a bed at 14.00.\n",
      "Patient 7 arrives at the hospital at 16.00.\n",
      "Patient 7 gets a bed at 16.00.\n",
      "50% probability of Patient 7 returning to hospital\n",
      "Patient 7 leaves the hospital at 18.00.\n"
     ]
    }
   ],
   "source": [
    "# execute simulation\n",
    "\n",
    "env.run(until=SIM_TIME)"
   ]
  },
  {
   "cell_type": "code",
   "execution_count": null,
   "metadata": {
    "collapsed": true
   },
   "outputs": [],
   "source": []
  }
 ],
 "metadata": {
  "kernelspec": {
   "display_name": "Python 3",
   "language": "python",
   "name": "python3"
  },
  "language_info": {
   "codemirror_mode": {
    "name": "ipython",
    "version": 3
   },
   "file_extension": ".py",
   "mimetype": "text/x-python",
   "name": "python",
   "nbconvert_exporter": "python",
   "pygments_lexer": "ipython3",
   "version": "3.6.1"
  }
 },
 "nbformat": 4,
 "nbformat_minor": 2
}
