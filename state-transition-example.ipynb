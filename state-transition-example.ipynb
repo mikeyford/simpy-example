{
 "cells": [
  {
   "cell_type": "markdown",
   "metadata": {},
   "source": [
    "Markov chain-like example. The following state transtions are possible:\n",
    "\n",
    "A -> B (50%) <p>\n",
    "A -> C (50%) (exit system) <p>\n",
    "B -> A (50%) <p>\n",
    "B -> D (50%) (exit system)<p>\n"
   ]
  },
  {
   "cell_type": "code",
   "execution_count": 6,
   "metadata": {},
   "outputs": [
    {
     "name": "stdout",
     "output_type": "stream",
     "text": [
      "Person0 in state A\n",
      "Person0 moved to state C (exits system)\n",
      "\n",
      "Person1 in state A\n",
      "Person1 moved to state B\n",
      "Person1 moved to state D (exits system)\n",
      "\n",
      "Person2 in state A\n",
      "Person2 moved to state C (exits system)\n",
      "\n",
      "Person3 in state A\n",
      "Person3 moved to state B\n",
      "Person3 moved to state D (exits system)\n",
      "\n",
      "Person4 in state A\n",
      "Person4 moved to state B\n",
      "Person4 moved back to state A\n",
      "Person4 in state A\n",
      "Person4 moved to state B\n",
      "Person4 moved back to state A\n",
      "Person4 in state A\n",
      "Person4 moved to state C (exits system)\n",
      "\n",
      "Person5 in state A\n",
      "Person5 moved to state B\n",
      "Person5 moved back to state A\n",
      "Person5 in state A\n",
      "Person5 moved to state C (exits system)\n",
      "\n",
      "Person6 in state A\n",
      "Person6 moved to state C (exits system)\n",
      "\n",
      "Person7 in state A\n",
      "Person7 moved to state C (exits system)\n",
      "\n",
      "Person8 in state A\n",
      "Person8 moved to state C (exits system)\n",
      "\n",
      "Person9 in state A\n",
      "Person9 moved to state B\n",
      "Person9 moved back to state A\n",
      "Person9 in state A\n",
      "Person9 moved to state B\n",
      "Person9 moved to state D (exits system)\n",
      "\n"
     ]
    }
   ],
   "source": [
    "import random\n",
    "import simpy\n",
    "\n",
    "\n",
    "def source(env, number, interval, counter):\n",
    "    for i in range(number):\n",
    "        a = state_A(env, 'Person%d' % i, counter, i)\n",
    "        env.process(a)\n",
    "        t = random.expovariate(1.0 / interval)\n",
    "        yield env.timeout(t)\n",
    "\n",
    "\n",
    "def state_A(env, name, counter, i):\n",
    "    arrive = env.now\n",
    "    print('%s in state A' % name)\n",
    "\n",
    "    with counter.request() as req:\n",
    "        results = yield req\n",
    "\n",
    "        dice = random.randint(1,6)\n",
    "\n",
    "        if dice < 4:\n",
    "            b = state_B(env, 'Person%d' % i, counter, i)\n",
    "            env.process(b)\n",
    "            print('%s moved to state B' % name)            \n",
    "\n",
    "        else:\n",
    "            print('%s moved to state C (exits system)' % name)\n",
    "            print(\"\")\n",
    "\n",
    "\n",
    "            \n",
    "def state_B(env, name, counter, i):\n",
    "    arrive = env.now\n",
    "    \n",
    "    with counter.request() as req:\n",
    "        results = yield req\n",
    "\n",
    "        dice = random.randint(1,6)\n",
    "\n",
    "        if dice < 4:\n",
    "            print('%s moved to state D (exits system)' % name)\n",
    "            print(\"\")\n",
    "\n",
    "        else:\n",
    "            a = state_A(env, 'Person%d' % i, counter, i)\n",
    "            env.process(a)\n",
    "            print('%s moved back to state A' % name)\n",
    "            \n",
    "    \n",
    "            \n",
    "# Setup and start the simulation\n",
    "env = simpy.Environment()\n",
    "\n",
    "# Start processes and run\n",
    "counter = simpy.Resource(env, capacity=1)\n",
    "env.process(source(env, 10, 10, counter))\n",
    "env.run()"
   ]
  },
  {
   "cell_type": "code",
   "execution_count": null,
   "metadata": {
    "collapsed": true
   },
   "outputs": [],
   "source": []
  },
  {
   "cell_type": "code",
   "execution_count": null,
   "metadata": {
    "collapsed": true
   },
   "outputs": [],
   "source": []
  }
 ],
 "metadata": {
  "kernelspec": {
   "display_name": "Python 3",
   "language": "python",
   "name": "python3"
  },
  "language_info": {
   "codemirror_mode": {
    "name": "ipython",
    "version": 3
   },
   "file_extension": ".py",
   "mimetype": "text/x-python",
   "name": "python",
   "nbconvert_exporter": "python",
   "pygments_lexer": "ipython3",
   "version": "3.6.1"
  }
 },
 "nbformat": 4,
 "nbformat_minor": 2
}
