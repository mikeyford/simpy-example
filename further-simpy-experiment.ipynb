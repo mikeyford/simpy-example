{
 "cells": [
  {
   "cell_type": "markdown",
   "metadata": {},
   "source": [
    "Markov chain-like example. The following state transtions are possible:\n",
    "\n",
    "A -> B (50%) <p>\n",
    "A -> C (50%) (exit system) <p>\n",
    "B -> A (50%) <p>\n",
    "B -> D (50%) (exit system)<p>\n",
    "\n",
    "10 new people enter the system in state A at random times. \n",
    "People get stuck at state B according to a Poisson distribution. 6 people are already in the system at state B when initialised."
   ]
  },
  {
   "cell_type": "code",
   "execution_count": 107,
   "metadata": {},
   "outputs": [],
   "source": [
    "import random\n",
    "import simpy\n",
    "\n",
    "\n",
    "def source(env, number_A, number_B, interval):\n",
    "    \n",
    "    for i in range(number_B):\n",
    "        log.append([i])\n",
    "        b = state_B(env, 'Person%d' % i, i)\n",
    "        env.process(b)\n",
    "        \n",
    "    for i in range(number_B, (number_A + number_B)):\n",
    "        log.append([i])\n",
    "        a = state_A(env, 'Person%d' % i, i)\n",
    "        env.process(a)\n",
    "        t = random.randint(1,10)\n",
    "        yield env.timeout(t)\n",
    "\n",
    "        \n",
    "def state_A(env, name, i):\n",
    "    arrive = env.now\n",
    "    log[i].append(['A',round(env.now)])\n",
    "\n",
    "    with counter.request() as req:\n",
    "        results = yield req\n",
    "\n",
    "        dice = random.randint(1,6)\n",
    "\n",
    "        if dice < 4:\n",
    "            b = state_B(env, 'Person%d' % i, i)\n",
    "            env.process(b)\n",
    "            \n",
    "        else:\n",
    "            log[i].append(['C',round(env.now)])\n",
    "\n",
    "            \n",
    "def state_B(env, name, i):\n",
    "    log[i].append(['B',round(env.now)])\n",
    "    arrive = env.now\n",
    "    t = random.expovariate(0.01)\n",
    "    yield env.timeout(t)\n",
    "    \n",
    "    with counter.request() as req:\n",
    "        results = yield req\n",
    "\n",
    "        dice = random.randint(1,6)\n",
    "\n",
    "        if dice < 4:\n",
    "            log[i].append(['D',round(env.now)])\n",
    "\n",
    "\n",
    "        else:\n",
    "            a = state_A(env, 'Person%d' % i, i)\n",
    "            env.process(a)\n",
    "            \n",
    "    \n",
    "            \n",
    "env = simpy.Environment()\n",
    "\n",
    "\n",
    "log = []\n",
    "counter = simpy.Resource(env, capacity=1)\n",
    "env.process(source(env, 10, 6, 25))\n",
    "env.run()"
   ]
  },
  {
   "cell_type": "markdown",
   "metadata": {},
   "source": [
    "The log stores the person id, then each subsequent nested array stores the state and time."
   ]
  },
  {
   "cell_type": "code",
   "execution_count": 108,
   "metadata": {},
   "outputs": [
    {
     "data": {
      "text/plain": [
       "[[0, ['B', 0], ['A', 8], ['B', 8], ['A', 21], ['B', 21], ['D', 106]],\n",
       " [1, ['B', 0], ['D', 103]],\n",
       " [2, ['B', 0], ['A', 46], ['C', 46]],\n",
       " [3, ['B', 0], ['A', 45], ['B', 45], ['A', 77], ['C', 77]],\n",
       " [4, ['B', 0], ['A', 236], ['C', 236]],\n",
       " [5, ['B', 0], ['A', 12], ['C', 12]],\n",
       " [6, ['A', 0], ['B', 0], ['D', 30]],\n",
       " [7, ['A', 3], ['C', 3]],\n",
       " [8, ['A', 5], ['C', 5]],\n",
       " [9, ['A', 12], ['B', 12], ['D', 63]],\n",
       " [10,\n",
       "  ['A', 14],\n",
       "  ['B', 14],\n",
       "  ['A', 103],\n",
       "  ['B', 103],\n",
       "  ['A', 159],\n",
       "  ['B', 159],\n",
       "  ['A', 227],\n",
       "  ['C', 227]],\n",
       " [11, ['A', 22], ['B', 22], ['A', 103], ['B', 103], ['D', 175]],\n",
       " [12, ['A', 27], ['B', 27], ['A', 66], ['B', 66], ['D', 203]],\n",
       " [13,\n",
       "  ['A', 28],\n",
       "  ['B', 28],\n",
       "  ['A', 209],\n",
       "  ['B', 209],\n",
       "  ['A', 225],\n",
       "  ['B', 225],\n",
       "  ['A', 242],\n",
       "  ['C', 242]],\n",
       " [14, ['A', 30], ['B', 30], ['A', 34], ['B', 34], ['D', 92]],\n",
       " [15, ['A', 38], ['B', 38], ['A', 47], ['C', 47]]]"
      ]
     },
     "execution_count": 108,
     "metadata": {},
     "output_type": "execute_result"
    }
   ],
   "source": [
    "log"
   ]
  }
 ],
 "metadata": {
  "kernelspec": {
   "display_name": "Python 3",
   "language": "python",
   "name": "python3"
  },
  "language_info": {
   "codemirror_mode": {
    "name": "ipython",
    "version": 3
   },
   "file_extension": ".py",
   "mimetype": "text/x-python",
   "name": "python",
   "nbconvert_exporter": "python",
   "pygments_lexer": "ipython3",
   "version": "3.6.2"
  }
 },
 "nbformat": 4,
 "nbformat_minor": 2
}
